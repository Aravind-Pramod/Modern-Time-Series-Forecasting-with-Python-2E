{
  "cells": [
    {
      "cell_type": "code",
      "execution_count": 1,
      "id": "7f7344b7",
      "metadata": {},
      "outputs": [
        {
          "name": "stdout",
          "output_type": "stream",
          "text": [
            "c:\\Users\\tacke\\OneDrive\\Documents\\GitHub\\Modern-Time-Series-Forecasting-with-Python-2E-1\n"
          ]
        }
      ],
      "source": [
        "%cd ../.."
      ]
    },
    {
      "cell_type": "code",
      "execution_count": 2,
      "id": "e258d425",
      "metadata": {},
      "outputs": [],
      "source": [
        "import pandas as pd"
      ]
    },
    {
      "cell_type": "markdown",
      "id": "3160b22b-c2ac-4320-9baa-8ea6fd207ea2",
      "metadata": {
        "id": "3160b22b-c2ac-4320-9baa-8ea6fd207ea2"
      },
      "source": [
        "### Useful functions"
      ]
    },
    {
      "cell_type": "markdown",
      "id": "7ed49d7d-d7e7-4828-bdd7-658ac351edb4",
      "metadata": {
        "id": "7ed49d7d-d7e7-4828-bdd7-658ac351edb4"
      },
      "source": [
        "The `plot_ts` auxiliary function defined below will be useful to plot time series, and different models' forecasts."
      ]
    },
    {
      "cell_type": "code",
      "execution_count": 3,
      "id": "66090288-ebc3-40c6-a235-919f4fcaeb71",
      "metadata": {
        "id": "66090288-ebc3-40c6-a235-919f4fcaeb71"
      },
      "outputs": [],
      "source": [
        "import warnings\n",
        "warnings.filterwarnings(\"ignore\")\n",
        "import matplotlib.pyplot as plt\n",
        "\n",
        "def plot_ts(df_train, df_test=None, model=None, level=None):\n",
        "    fig, axes = plt.subplots(1, 1, figsize = (10, 5))\n",
        "\n",
        "    uid = df_train['unique_id'].unique().item()\n",
        "    train_uid = df_train.query('unique_id == @uid')\n",
        "    axes.plot(train_uid['ds'], train_uid['y'], label = 'y_train')\n",
        "    if df_test is not None:\n",
        "        max_ds = train_uid['ds'].max()\n",
        "        test_uid = df_test.query('unique_id == @uid')\n",
        "        for col in ['y', f'{model}-median', 'y_test']:\n",
        "            if col in test_uid:\n",
        "                axes.plot(test_uid['ds'], test_uid[col], label=col)\n",
        "        if level is not None:\n",
        "            for l, alpha in zip(sorted(level), [0.5, .4, .35, .2]):\n",
        "                axes.fill_between(\n",
        "                    test_uid['ds'],\n",
        "                    test_uid[f'{model}-lo-{l}'],\n",
        "                    test_uid[f'{model}-hi-{l}'],\n",
        "                    alpha=alpha,\n",
        "                    color='green',\n",
        "                    label=f'{model}_level_{l}',\n",
        "                )\n",
        "    axes.set_title(f'Time Series: {uid}')\n",
        "    axes.set_xlabel('Timestamp [t]')\n",
        "    # rotate x label ticks\n",
        "    for tick in axes.get_xticklabels():\n",
        "        tick.set_rotation(45)\n",
        "    axes.set_ylabel('Target')\n",
        "    axes.legend(loc='upper left')\n",
        "    axes.xaxis.set_major_locator(plt.MaxNLocator(20))\n",
        "    axes.grid()\n",
        "    plt.show()"
      ]
    },
    {
      "cell_type": "markdown",
      "id": "b5074b19-d1d6-4fe8-9004-209eeecdb0fe",
      "metadata": {
        "id": "b5074b19-d1d6-4fe8-9004-209eeecdb0fe"
      },
      "source": [
        "### Config"
      ]
    },
    {
      "cell_type": "code",
      "execution_count": 4,
      "id": "d279c6e9",
      "metadata": {},
      "outputs": [],
      "source": [
        "WINDOW = 12\n",
        "HORIZON = 12"
      ]
    },
    {
      "cell_type": "markdown",
      "id": "e97b2c1a",
      "metadata": {},
      "source": [
        "### Generating Synthetic Data"
      ]
    },
    {
      "cell_type": "code",
      "execution_count": 5,
      "id": "05ec7825",
      "metadata": {},
      "outputs": [],
      "source": [
        "import numpy as np\n",
        "\n",
        "# Define the non-linear trend function\n",
        "def non_linear_trend(t):\n",
        "    return 0.5 * t**1.5 + 0.2 * t + 0.1\n",
        "\n",
        "# Define the seasonality function\n",
        "def seasonality(t):\n",
        "    return 50 * np.sin(2 * np.pi * t) + 10 * np.random.randn(len(t))\n",
        "\n",
        "# Define the noise function\n",
        "def noise(t):\n",
        "    return 5 * np.random.randn(len(t))\n",
        "\n",
        "# Sample regular time points\n",
        "time_points = np.linspace(0, 100, 500)\n",
        "\n",
        "# Create a TimeSeries object with the non-linear trend\n",
        "samples = non_linear_trend(time_points) + seasonality(time_points) + noise(time_points)\n",
        "\n",
        "# Comverting time into dates\n",
        "time_points = pd.date_range(start='2020-01-01', periods=len(time_points), freq='D')\n",
        "# Prepare the dataframe\n",
        "df = pd.DataFrame({'unique_id':\"A\", 'ds': time_points, 'y': samples})\n",
        "\n",
        "# Split into Train and Test\n",
        "Y_test_df = df.groupby('unique_id').tail(HORIZON)\n",
        "Y_train_df = df.drop(Y_test_df.index)"
      ]
    },
    {
      "cell_type": "code",
      "execution_count": 6,
      "id": "d901ca3f",
      "metadata": {},
      "outputs": [],
      "source": [
        "# from src.synthetic_ts.autoregressive import AutoRegressive\n",
        "# import timesynth as ts\n",
        "\n",
        "\n",
        "# def generate_timeseries(signal, noise=None):\n",
        "#     time_sampler = ts.TimeSampler(stop_time=20)\n",
        "#     regular_time_samples = time_sampler.sample_regular_time(num_points=500)\n",
        "#     timeseries = ts.TimeSeries(signal_generator=signal, noise_generator=noise)\n",
        "#     samples, signals, errors = timeseries.sample(regular_time_samples)\n",
        "#     return samples, regular_time_samples, signals, errors\n",
        "\n",
        "# #Generating Pseudo Periodic Signal\n",
        "# pseudo_samples, regular_time_samples, _, _ = generate_timeseries(signal=ts.signals.PseudoPeriodic(amplitude=0.1, frequency=0.25), noise=ts.noise.GaussianNoise(std=0.1))\n",
        "# # Generating an Autoregressive Signal\n",
        "# ar_samples, regular_time_samples, _, _ = generate_timeseries(signal=AutoRegressive(ar_param=[0.2]))\n",
        "# # Combining the two signals using a mathematical equation\n",
        "# samples = ar_samples #pseudo_samples+\n",
        "# # Comverting time into dates\n",
        "# regular_time_samples = pd.date_range(start='2020-01-01', periods=len(regular_time_samples), freq='D')\n",
        "# # Prepare the dataframe\n",
        "# df = pd.DataFrame({'unique_id':\"A\", 'ds': regular_time_samples, 'y': samples})\n",
        "\n",
        "# # Split into Train and Test\n",
        "# Y_test_df = df.groupby('unique_id').tail(HORIZON)\n",
        "# Y_train_df = df.drop(Y_test_df.index)"
      ]
    },
    {
      "cell_type": "code",
      "execution_count": 7,
      "id": "462f01fc",
      "metadata": {},
      "outputs": [
        {
          "data": {
            "image/png": "[encoded data removed]",
            "text/plain": [
              "<Figure size 1000x500 with 1 Axes>"
            ]
          },
          "metadata": {},
          "output_type": "display_data"
        }
      ],
      "source": [
        "plot_ts(Y_train_df.tail(100), Y_test_df)"
      ]
    },
    {
      "cell_type": "markdown",
      "id": "a276a735-ff95-4aaf-9548-ef7848cfadcd",
      "metadata": {
        "id": "a276a735-ff95-4aaf-9548-ef7848cfadcd"
      },
      "source": [
        "### Model Definition"
      ]
    },
    {
      "cell_type": "code",
      "execution_count": 8,
      "id": "68c38ae7",
      "metadata": {
        "id": "68c38ae7"
      },
      "outputs": [],
      "source": [
        "from neuralforecast.common._base_windows import BaseWindows\n",
        "from neuralforecast.losses.pytorch import MAE\n",
        "import torch\n",
        "import torch.nn as nn\n",
        "\n",
        "from src.dl.nf_models import SeriesDecomp"
      ]
    },
    {
      "cell_type": "markdown",
      "id": "09da6f3a",
      "metadata": {},
      "source": [
        "#### Custom NeuralForecast Model\n",
        "\n",
        "We can have a bit of fun and define a custom model (a tweak on the DLinear models we saw earlier) that uses a neural network to forecast the time series. The model will have the following architecture:\n",
        "```\n",
        "     Input----------------------\n",
        "      |                         |\n",
        "Series Decomposition            |\n",
        "      /\\                        |\n",
        "     /  \\                       |\n",
        "Trend   Seasonality             |\n",
        "  |            |                |\n",
        "Trend      Seasonality    Non-Linear Trend\n",
        "Predictor   Predictor       Predictor\n",
        "      |         |           |\n",
        "      ----------------------\n",
        "              (Add)\n",
        "                |\n",
        "              Output  \n",
        "  \n",
        "```\n",
        "\n",
        "And we will be overriding the `predict_step` method to include MC Dropout inference."
      ]
    },
    {
      "cell_type": "code",
      "execution_count": 9,
      "id": "1a576e9a",
      "metadata": {},
      "outputs": [],
      "source": [
        "def enable_dropout(model):\n",
        "    \"\"\"Function to enable the dropout layers during test-time\"\"\"\n",
        "    for m in model.modules():\n",
        "        if m.__class__.__name__.startswith(\"Dropout\"):\n",
        "            m.train()\n",
        "\n",
        "\n",
        "class MontecarloDropoutDNonLinear(BaseWindows):\n",
        "    def __init__(\n",
        "        self,\n",
        "        # Inhereted hyperparameters with no defaults\n",
        "        h,\n",
        "        input_size,\n",
        "        # Model specific hyperparameters\n",
        "        moving_avg_window=3,\n",
        "        dropout=0.1,\n",
        "        # Inhereted hyperparameters with defaults\n",
        "        exclude_insample_y=False,\n",
        "        loss=MAE(),\n",
        "        valid_loss=None,\n",
        "        max_steps: int = 1000,\n",
        "        learning_rate: float = 1e-3,\n",
        "        num_lr_decays: int = -1,\n",
        "        early_stop_patience_steps: int = -1,\n",
        "        val_check_steps: int = 100,\n",
        "        batch_size: int = 32,\n",
        "        valid_batch_size: int = None,\n",
        "        windows_batch_size=1024,\n",
        "        inference_windows_batch_size=-1,\n",
        "        start_padding_enabled: bool = False,\n",
        "        step_size: int = 1,\n",
        "        scaler_type: str = \"identity\",\n",
        "        random_seed: int = 1,\n",
        "        num_workers_loader: int = 0,\n",
        "        drop_last_loader: bool = False,\n",
        "        **trainer_kwargs,\n",
        "    ):\n",
        "        # Inherit BaseWindows class\n",
        "        if moving_avg_window % 2 == 0:\n",
        "            raise Exception(\"moving_avg_window should be uneven\")\n",
        "        super(MontecarloDropoutDNonLinear, self).__init__(\n",
        "            h=h,\n",
        "            input_size=input_size,\n",
        "            exclude_insample_y=exclude_insample_y,\n",
        "            loss=loss,\n",
        "            valid_loss=valid_loss,\n",
        "            max_steps=max_steps,\n",
        "            val_check_steps=val_check_steps,\n",
        "            batch_size=batch_size,\n",
        "            valid_batch_size=valid_batch_size,\n",
        "            windows_batch_size=windows_batch_size,\n",
        "            inference_windows_batch_size=inference_windows_batch_size,\n",
        "            start_padding_enabled=start_padding_enabled,\n",
        "            step_size=step_size,\n",
        "            num_lr_decays=num_lr_decays,\n",
        "            learning_rate=learning_rate,\n",
        "            early_stop_patience_steps=early_stop_patience_steps,\n",
        "            scaler_type=scaler_type,\n",
        "            random_seed=random_seed,\n",
        "            drop_last_loader=drop_last_loader,\n",
        "            num_workers_loader=num_workers_loader,\n",
        "            **trainer_kwargs,\n",
        "        )\n",
        "        # Model specific hyperparameters\n",
        "        self.moving_avg_window = moving_avg_window\n",
        "        self.dropout = dropout\n",
        "\n",
        "        self.decomp = SeriesDecomp(self.moving_avg_window)\n",
        "        self.non_linear_block = nn.Sequential(\n",
        "            nn.Dropout(self.dropout),\n",
        "            nn.Linear(self.input_size, 100),\n",
        "            nn.ReLU(),\n",
        "            nn.Dropout(self.dropout),\n",
        "            nn.Linear(100, 100),\n",
        "            nn.ReLU(),\n",
        "            nn.Dropout(self.dropout),\n",
        "            nn.Linear(100, self.h),\n",
        "        )\n",
        "        self.linear_trend = nn.Sequential(\n",
        "            nn.Dropout(self.dropout),\n",
        "            nn.Linear(self.input_size, self.h),\n",
        "        )\n",
        "        self.seasonal_trend = nn.Sequential(\n",
        "            nn.Dropout(self.dropout),\n",
        "            nn.Linear(self.input_size, self.h),\n",
        "        )\n",
        "\n",
        "    def forward(self, windows_batch):\n",
        "        # Parse windows_batch\n",
        "        insample_y = windows_batch[\n",
        "            \"insample_y\"\n",
        "        ].clone()  # --> (batch_size, input_size)\n",
        "        seasonal_init, trend_init = self.decomp(\n",
        "            insample_y\n",
        "        )  # --> (batch_size, input_size)\n",
        "        # Non-linear block\n",
        "        non_linear_part = self.non_linear_block(\n",
        "            insample_y\n",
        "        )  # --> (batch_size, horizon)\n",
        "\n",
        "        trend_part = self.linear_trend(trend_init)  # --> (batch_size, horizon)\n",
        "        seasonal_part = self.seasonal_trend(\n",
        "            seasonal_init\n",
        "        )  # --> (batch_size, horizon)\n",
        "        # Final\n",
        "        forecast = (\n",
        "            trend_part + seasonal_part + non_linear_part\n",
        "        )  # --> (batch_size, horizon)\n",
        "        forecast = self.loss.domain_map(forecast)\n",
        "        return forecast\n",
        "\n",
        "    def predict_step(self, batch, batch_idx):\n",
        "        enable_dropout(self)\n",
        "        pred_samples = []\n",
        "        for i in range(self.num_samples):\n",
        "            y_hat = super().predict_step(batch, batch_idx)\n",
        "            pred_samples.append(y_hat)\n",
        "        pred_samples = torch.stack(pred_samples, dim=0)\n",
        "        y_hat = [pred_samples.quantile(0.5, dim=0)]\n",
        "        if self.levels is not None:\n",
        "            for l in self.levels:\n",
        "                hi = l / 100.0\n",
        "                lo = 1 - hi\n",
        "                y_hat_lo = pred_samples.quantile(lo, dim=0)\n",
        "                y_hat_hi = pred_samples.quantile(hi, dim=0)\n",
        "                y_hat.extend([y_hat_lo, y_hat_hi])\n",
        "        y_hat = torch.stack(y_hat, dim=-1)\n",
        "        return y_hat"
      ]
    },
    {
      "cell_type": "markdown",
      "id": "93d944fb",
      "metadata": {},
      "source": [
        "#### Custom Redefinition of the Neuralforecast class"
      ]
    },
    {
      "cell_type": "code",
      "execution_count": 10,
      "id": "7205c560",
      "metadata": {},
      "outputs": [],
      "source": [
        "from neuralforecast import NeuralForecast"
      ]
    },
    {
      "cell_type": "code",
      "execution_count": 11,
      "id": "61b46b58",
      "metadata": {},
      "outputs": [],
      "source": [
        "class MCNeuralForecast(NeuralForecast):\n",
        "    def __init__(self, num_samples, levels=None, **kwargs):\n",
        "        super().__init__(**kwargs)\n",
        "        self.num_samples = num_samples\n",
        "        self.levels = levels\n",
        "\n",
        "    def predict(\n",
        "        self,\n",
        "        df=None,\n",
        "        static_df=None,\n",
        "        futr_df=None,\n",
        "        sort_df=True,\n",
        "        verbose=False,\n",
        "        engine=None,\n",
        "        **data_kwargs,\n",
        "    ):\n",
        "        # Adding model columns to loss output names\n",
        "        # Necessary hack to get the quantiles and format it correctly\n",
        "        for model in self.models:\n",
        "            model.loss.output_names = [\"-median\"]\n",
        "            for l in list(self.levels):\n",
        "                model.loss.output_names.append(f\"-lo-{l}\")\n",
        "                model.loss.output_names.append(f\"-hi-{l}\")\n",
        "            # Setting the number of samples and levels in the model\n",
        "            model.num_samples = self.num_samples\n",
        "            model.levels = self.levels\n",
        "        return super().predict(\n",
        "            df, static_df, futr_df, sort_df, verbose, engine, **data_kwargs\n",
        "        )"
      ]
    },
    {
      "cell_type": "markdown",
      "id": "306420bd",
      "metadata": {},
      "source": [
        "### Model Training"
      ]
    },
    {
      "cell_type": "code",
      "execution_count": 12,
      "id": "c487f9ad",
      "metadata": {},
      "outputs": [
        {
          "name": "stderr",
          "output_type": "stream",
          "text": [
            "Seed set to 1\n",
            "GPU available: False, used: False\n",
            "TPU available: False, using: 0 TPU cores\n",
            "IPU available: False, using: 0 IPUs\n",
            "HPU available: False, using: 0 HPUs\n",
            "\n",
            "  | Name             | Type          | Params\n",
            "---------------------------------------------------\n",
            "0 | loss             | MAE           | 0     \n",
            "1 | padder_train     | ConstantPad1d | 0     \n",
            "2 | scaler           | TemporalNorm  | 0     \n",
            "3 | decomp           | SeriesDecomp  | 0     \n",
            "4 | non_linear_block | Sequential    | 12.6 K\n",
            "5 | linear_trend     | Sequential    | 156   \n",
            "6 | seasonal_trend   | Sequential    | 156   \n",
            "---------------------------------------------------\n",
            "12.9 K    Trainable params\n",
            "0         Non-trainable params\n",
            "12.9 K    Total params\n",
            "0.052     Total estimated model params size (MB)\n"
          ]
        },
        {
          "data": {
            "application/vnd.jupyter.widget-view+json": {
              "model_id": "fcab3a1d961d4b7898c8d51cbff76722",
              "version_major": 2,
              "version_minor": 0
            },
            "text/plain": [
              "Sanity Checking: |          | 0/? [00:00<?, ?it/s]"
            ]
          },
          "metadata": {},
          "output_type": "display_data"
        },
        {
          "data": {
            "application/vnd.jupyter.widget-view+json": {
              "model_id": "4219e702b76d4616832ad100d96d5348",
              "version_major": 2,
              "version_minor": 0
            },
            "text/plain": [
              "Training: |          | 0/? [00:00<?, ?it/s]"
            ]
          },
          "metadata": {},
          "output_type": "display_data"
        },
        {
          "data": {
            "application/vnd.jupyter.widget-view+json": {
              "model_id": "5f77f903541f4c6fa573ea9f5ae08d43",
              "version_major": 2,
              "version_minor": 0
            },
            "text/plain": [
              "Validation: |          | 0/? [00:00<?, ?it/s]"
            ]
          },
          "metadata": {},
          "output_type": "display_data"
        },
        {
          "data": {
            "application/vnd.jupyter.widget-view+json": {
              "model_id": "1dd02c22cdb9499ca4c382b3419b69ef",
              "version_major": 2,
              "version_minor": 0
            },
            "text/plain": [
              "Validation: |          | 0/? [00:00<?, ?it/s]"
            ]
          },
          "metadata": {},
          "output_type": "display_data"
        },
        {
          "data": {
            "application/vnd.jupyter.widget-view+json": {
              "model_id": "bd8cff7a4b6247dfa899bab9857cebb7",
              "version_major": 2,
              "version_minor": 0
            },
            "text/plain": [
              "Validation: |          | 0/? [00:00<?, ?it/s]"
            ]
          },
          "metadata": {},
          "output_type": "display_data"
        },
        {
          "data": {
            "application/vnd.jupyter.widget-view+json": {
              "model_id": "41e8fbd0da8f4dcd8ff83a2c04383f32",
              "version_major": 2,
              "version_minor": 0
            },
            "text/plain": [
              "Validation: |          | 0/? [00:00<?, ?it/s]"
            ]
          },
          "metadata": {},
          "output_type": "display_data"
        },
        {
          "data": {
            "application/vnd.jupyter.widget-view+json": {
              "model_id": "36135c4ab12943df8ff795f990f527ee",
              "version_major": 2,
              "version_minor": 0
            },
            "text/plain": [
              "Validation: |          | 0/? [00:00<?, ?it/s]"
            ]
          },
          "metadata": {},
          "output_type": "display_data"
        },
        {
          "name": "stderr",
          "output_type": "stream",
          "text": [
            "`Trainer.fit` stopped: `max_steps=500` reached.\n"
          ]
        }
      ],
      "source": [
        "levels = [80, 90]\n",
        "model = MontecarloDropoutDNonLinear(\n",
        "    h=HORIZON,\n",
        "    input_size=WINDOW,\n",
        "    moving_avg_window=3,\n",
        "    dropout=0.1,\n",
        "    max_steps=500,\n",
        "    early_stop_patience_steps=5,\n",
        ")\n",
        "\n",
        "mcnf = MCNeuralForecast(models=[model], freq=\"D\", num_samples=100, levels=levels)\n",
        "mcnf.fit(Y_train_df, val_size=HORIZON, verbose=True)"
      ]
    },
    {
      "cell_type": "code",
      "execution_count": 13,
      "id": "9310479a",
      "metadata": {},
      "outputs": [
        {
          "name": "stderr",
          "output_type": "stream",
          "text": [
            "Trainer already configured with model summary callbacks: [<class 'pytorch_lightning.callbacks.model_summary.ModelSummary'>]. Skipping setting a default `ModelSummary` callback.\n",
            "GPU available: False, used: False\n",
            "TPU available: False, using: 0 TPU cores\n",
            "IPU available: False, using: 0 IPUs\n",
            "HPU available: False, using: 0 HPUs\n"
          ]
        },
        {
          "data": {
            "application/vnd.jupyter.widget-view+json": {
              "model_id": "17627f521b0146b29a31eeb2c4daeb60",
              "version_major": 2,
              "version_minor": 0
            },
            "text/plain": [
              "Predicting: |          | 0/? [00:00<?, ?it/s]"
            ]
          },
          "metadata": {},
          "output_type": "display_data"
        },
        {
          "data": {
            "text/html": [
              "<div>\n",
              "<style scoped>\n",
              "    .dataframe tbody tr th:only-of-type {\n",
              "        vertical-align: middle;\n",
              "    }\n",
              "\n",
              "    .dataframe tbody tr th {\n",
              "        vertical-align: top;\n",
              "    }\n",
              "\n",
              "    .dataframe thead th {\n",
              "        text-align: right;\n",
              "    }\n",
              "</style>\n",
              "<table border=\"1\" class=\"dataframe\">\n",
              "  <thead>\n",
              "    <tr style=\"text-align: right;\">\n",
              "      <th></th>\n",
              "      <th>unique_id</th>\n",
              "      <th>ds</th>\n",
              "      <th>MontecarloDropoutDNonLinear-median</th>\n",
              "      <th>MontecarloDropoutDNonLinear-lo-80</th>\n",
              "      <th>MontecarloDropoutDNonLinear-hi-80</th>\n",
              "      <th>MontecarloDropoutDNonLinear-lo-90</th>\n",
              "      <th>MontecarloDropoutDNonLinear-hi-90</th>\n",
              "    </tr>\n",
              "  </thead>\n",
              "  <tbody>\n",
              "    <tr>\n",
              "      <th>0</th>\n",
              "      <td>A</td>\n",
              "      <td>2021-05-03</td>\n",
              "      <td>462.253967</td>\n",
              "      <td>426.180725</td>\n",
              "      <td>497.488892</td>\n",
              "      <td>393.958984</td>\n",
              "      <td>511.101227</td>\n",
              "    </tr>\n",
              "    <tr>\n",
              "      <th>1</th>\n",
              "      <td>A</td>\n",
              "      <td>2021-05-04</td>\n",
              "      <td>498.890137</td>\n",
              "      <td>445.501587</td>\n",
              "      <td>544.368042</td>\n",
              "      <td>415.558685</td>\n",
              "      <td>568.371948</td>\n",
              "    </tr>\n",
              "    <tr>\n",
              "      <th>2</th>\n",
              "      <td>A</td>\n",
              "      <td>2021-05-05</td>\n",
              "      <td>560.047852</td>\n",
              "      <td>524.554260</td>\n",
              "      <td>583.478516</td>\n",
              "      <td>509.338135</td>\n",
              "      <td>596.017883</td>\n",
              "    </tr>\n",
              "    <tr>\n",
              "      <th>3</th>\n",
              "      <td>A</td>\n",
              "      <td>2021-05-06</td>\n",
              "      <td>543.547668</td>\n",
              "      <td>510.240509</td>\n",
              "      <td>563.699463</td>\n",
              "      <td>501.584595</td>\n",
              "      <td>574.733093</td>\n",
              "    </tr>\n",
              "    <tr>\n",
              "      <th>4</th>\n",
              "      <td>A</td>\n",
              "      <td>2021-05-07</td>\n",
              "      <td>486.072662</td>\n",
              "      <td>445.962280</td>\n",
              "      <td>514.169617</td>\n",
              "      <td>421.435547</td>\n",
              "      <td>536.067993</td>\n",
              "    </tr>\n",
              "  </tbody>\n",
              "</table>\n",
              "</div>"
            ],
            "text/plain": [
              "  unique_id         ds  MontecarloDropoutDNonLinear-median  \\\n",
              "0         A 2021-05-03                          462.253967   \n",
              "1         A 2021-05-04                          498.890137   \n",
              "2         A 2021-05-05                          560.047852   \n",
              "3         A 2021-05-06                          543.547668   \n",
              "4         A 2021-05-07                          486.072662   \n",
              "\n",
              "   MontecarloDropoutDNonLinear-lo-80  MontecarloDropoutDNonLinear-hi-80  \\\n",
              "0                         426.180725                         497.488892   \n",
              "1                         445.501587                         544.368042   \n",
              "2                         524.554260                         583.478516   \n",
              "3                         510.240509                         563.699463   \n",
              "4                         445.962280                         514.169617   \n",
              "\n",
              "   MontecarloDropoutDNonLinear-lo-90  MontecarloDropoutDNonLinear-hi-90  \n",
              "0                         393.958984                         511.101227  \n",
              "1                         415.558685                         568.371948  \n",
              "2                         509.338135                         596.017883  \n",
              "3                         501.584595                         574.733093  \n",
              "4                         421.435547                         536.067993  "
            ]
          },
          "execution_count": 13,
          "metadata": {},
          "output_type": "execute_result"
        }
      ],
      "source": [
        "# Predicting for the next horizon (since we arent using any external regressors, we can just call predict)\n",
        "# The output should have the point rediction (median) as well as the two prediction intervals according to the levels we have defined\n",
        "Y_hat_df = mcnf.predict()\n",
        "Y_hat_df = Y_hat_df.reset_index()\n",
        "Y_hat_df.head()"
      ]
    },
    {
      "cell_type": "code",
      "execution_count": 14,
      "id": "c3416e60",
      "metadata": {},
      "outputs": [],
      "source": [
        "# Merging the predictions back to the test_df\n",
        "Y_test_df = Y_test_df.merge(Y_hat_df, how='left', on=['unique_id', 'ds'])"
      ]
    },
    {
      "cell_type": "code",
      "execution_count": 15,
      "id": "08054e76",
      "metadata": {},
      "outputs": [
        {
          "data": {
            "image/png": "[encoded data removed]",
            "text/plain": [
              "<Figure size 1000x500 with 1 Axes>"
            ]
          },
          "metadata": {},
          "output_type": "display_data"
        }
      ],
      "source": [
        "plot_ts(Y_train_df.tail(10), Y_test_df, model=\"MontecarloDropoutDNonLinear\", level=[90])"
      ]
    }
  ],
  "metadata": {
    "colab": {
      "provenance": []
    },
    "kernelspec": {
      "display_name": "python3",
      "language": "python",
      "name": "python3"
    },
    "language_info": {
      "codemirror_mode": {
        "name": "ipython",
        "version": 3
      },
      "file_extension": ".py",
      "mimetype": "text/x-python",
      "name": "python",
      "nbconvert_exporter": "python",
      "pygments_lexer": "ipython3",
      "version": "3.11.9"
    },
    "widgets": {
      "application/vnd.jupyter.widget-state+json": {
        "0b7ea24402304b70b7ecc7e45d605ac9": {
          "model_module": "@jupyter-widgets/controls",
          "model_module_version": "1.5.0",
          "model_name": "HTMLModel",
          "state": {
            "_dom_classes": [],
            "_model_module": "@jupyter-widgets/controls",
            "_model_module_version": "1.5.0",
            "_model_name": "HTMLModel",
            "_view_count": null,
            "_view_module": "@jupyter-widgets/controls",
            "_view_module_version": "1.5.0",
            "_view_name": "HTMLView",
            "description": "",
            "description_tooltip": null,
            "layout": "IPY_MODEL_d5217899ce6841ddb42a5be1e61c651e",
            "placeholder": "​",
            "style": "IPY_MODEL_30556af3d3f04051a40cdcf3dbb9b566",
            "value": "Predicting DataLoader 0: 100%"
          }
        },
        "2aa320f2e0154a90a7efa6e371afaee3": {
          "model_module": "@jupyter-widgets/base",
          "model_module_version": "1.2.0",
          "model_name": "LayoutModel",
          "state": {
            "_model_module": "@jupyter-widgets/base",
            "_model_module_version": "1.2.0",
            "_model_name": "LayoutModel",
            "_view_count": null,
            "_view_module": "@jupyter-widgets/base",
            "_view_module_version": "1.2.0",
            "_view_name": "LayoutView",
            "align_content": null,
            "align_items": null,
            "align_self": null,
            "border": null,
            "bottom": null,
            "display": "inline-flex",
            "flex": null,
            "flex_flow": "row wrap",
            "grid_area": null,
            "grid_auto_columns": null,
            "grid_auto_flow": null,
            "grid_auto_rows": null,
            "grid_column": null,
            "grid_gap": null,
            "grid_row": null,
            "grid_template_areas": null,
            "grid_template_columns": null,
            "grid_template_rows": null,
            "height": null,
            "justify_content": null,
            "justify_items": null,
            "left": null,
            "margin": null,
            "max_height": null,
            "max_width": null,
            "min_height": null,
            "min_width": null,
            "object_fit": null,
            "object_position": null,
            "order": null,
            "overflow": null,
            "overflow_x": null,
            "overflow_y": null,
            "padding": null,
            "right": null,
            "top": null,
            "visibility": null,
            "width": "100%"
          }
        },
        "30556af3d3f04051a40cdcf3dbb9b566": {
          "model_module": "@jupyter-widgets/controls",
          "model_module_version": "1.5.0",
          "model_name": "DescriptionStyleModel",
          "state": {
            "_model_module": "@jupyter-widgets/controls",
            "_model_module_version": "1.5.0",
            "_model_name": "DescriptionStyleModel",
            "_view_count": null,
            "_view_module": "@jupyter-widgets/base",
            "_view_module_version": "1.2.0",
            "_view_name": "StyleView",
            "description_width": ""
          }
        },
        "5561f9d95c164b8c83410ce1cde62245": {
          "model_module": "@jupyter-widgets/controls",
          "model_module_version": "1.5.0",
          "model_name": "HBoxModel",
          "state": {
            "_dom_classes": [],
            "_model_module": "@jupyter-widgets/controls",
            "_model_module_version": "1.5.0",
            "_model_name": "HBoxModel",
            "_view_count": null,
            "_view_module": "@jupyter-widgets/controls",
            "_view_module_version": "1.5.0",
            "_view_name": "HBoxView",
            "box_style": "",
            "children": [
              "IPY_MODEL_0b7ea24402304b70b7ecc7e45d605ac9",
              "IPY_MODEL_aea9c10f7565416dbc1a23cc1249af43",
              "IPY_MODEL_abbf23920123489dafc25ef7b54b65dd"
            ],
            "layout": "IPY_MODEL_2aa320f2e0154a90a7efa6e371afaee3"
          }
        },
        "92666bef98ba4d9d87cf2e1250419afe": {
          "model_module": "@jupyter-widgets/base",
          "model_module_version": "1.2.0",
          "model_name": "LayoutModel",
          "state": {
            "_model_module": "@jupyter-widgets/base",
            "_model_module_version": "1.2.0",
            "_model_name": "LayoutModel",
            "_view_count": null,
            "_view_module": "@jupyter-widgets/base",
            "_view_module_version": "1.2.0",
            "_view_name": "LayoutView",
            "align_content": null,
            "align_items": null,
            "align_self": null,
            "border": null,
            "bottom": null,
            "display": null,
            "flex": "2",
            "flex_flow": null,
            "grid_area": null,
            "grid_auto_columns": null,
            "grid_auto_flow": null,
            "grid_auto_rows": null,
            "grid_column": null,
            "grid_gap": null,
            "grid_row": null,
            "grid_template_areas": null,
            "grid_template_columns": null,
            "grid_template_rows": null,
            "height": null,
            "justify_content": null,
            "justify_items": null,
            "left": null,
            "margin": null,
            "max_height": null,
            "max_width": null,
            "min_height": null,
            "min_width": null,
            "object_fit": null,
            "object_position": null,
            "order": null,
            "overflow": null,
            "overflow_x": null,
            "overflow_y": null,
            "padding": null,
            "right": null,
            "top": null,
            "visibility": null,
            "width": null
          }
        },
        "abbf23920123489dafc25ef7b54b65dd": {
          "model_module": "@jupyter-widgets/controls",
          "model_module_version": "1.5.0",
          "model_name": "HTMLModel",
          "state": {
            "_dom_classes": [],
            "_model_module": "@jupyter-widgets/controls",
            "_model_module_version": "1.5.0",
            "_model_name": "HTMLModel",
            "_view_count": null,
            "_view_module": "@jupyter-widgets/controls",
            "_view_module_version": "1.5.0",
            "_view_name": "HTMLView",
            "description": "",
            "description_tooltip": null,
            "layout": "IPY_MODEL_cccbaf6c5c984695a9d881e9985d7b05",
            "placeholder": "​",
            "style": "IPY_MODEL_f01502fb1fc34a8682b2880be556978e",
            "value": " 1/1 [00:00&lt;00:00,  1.25it/s]"
          }
        },
        "aea9c10f7565416dbc1a23cc1249af43": {
          "model_module": "@jupyter-widgets/controls",
          "model_module_version": "1.5.0",
          "model_name": "FloatProgressModel",
          "state": {
            "_dom_classes": [],
            "_model_module": "@jupyter-widgets/controls",
            "_model_module_version": "1.5.0",
            "_model_name": "FloatProgressModel",
            "_view_count": null,
            "_view_module": "@jupyter-widgets/controls",
            "_view_module_version": "1.5.0",
            "_view_name": "ProgressView",
            "bar_style": "success",
            "description": "",
            "description_tooltip": null,
            "layout": "IPY_MODEL_92666bef98ba4d9d87cf2e1250419afe",
            "max": 1,
            "min": 0,
            "orientation": "horizontal",
            "style": "IPY_MODEL_eee1212ff0b14712841442056c1bb75c",
            "value": 1
          }
        },
        "cccbaf6c5c984695a9d881e9985d7b05": {
          "model_module": "@jupyter-widgets/base",
          "model_module_version": "1.2.0",
          "model_name": "LayoutModel",
          "state": {
            "_model_module": "@jupyter-widgets/base",
            "_model_module_version": "1.2.0",
            "_model_name": "LayoutModel",
            "_view_count": null,
            "_view_module": "@jupyter-widgets/base",
            "_view_module_version": "1.2.0",
            "_view_name": "LayoutView",
            "align_content": null,
            "align_items": null,
            "align_self": null,
            "border": null,
            "bottom": null,
            "display": null,
            "flex": null,
            "flex_flow": null,
            "grid_area": null,
            "grid_auto_columns": null,
            "grid_auto_flow": null,
            "grid_auto_rows": null,
            "grid_column": null,
            "grid_gap": null,
            "grid_row": null,
            "grid_template_areas": null,
            "grid_template_columns": null,
            "grid_template_rows": null,
            "height": null,
            "justify_content": null,
            "justify_items": null,
            "left": null,
            "margin": null,
            "max_height": null,
            "max_width": null,
            "min_height": null,
            "min_width": null,
            "object_fit": null,
            "object_position": null,
            "order": null,
            "overflow": null,
            "overflow_x": null,
            "overflow_y": null,
            "padding": null,
            "right": null,
            "top": null,
            "visibility": null,
            "width": null
          }
        },
        "d5217899ce6841ddb42a5be1e61c651e": {
          "model_module": "@jupyter-widgets/base",
          "model_module_version": "1.2.0",
          "model_name": "LayoutModel",
          "state": {
            "_model_module": "@jupyter-widgets/base",
            "_model_module_version": "1.2.0",
            "_model_name": "LayoutModel",
            "_view_count": null,
            "_view_module": "@jupyter-widgets/base",
            "_view_module_version": "1.2.0",
            "_view_name": "LayoutView",
            "align_content": null,
            "align_items": null,
            "align_self": null,
            "border": null,
            "bottom": null,
            "display": null,
            "flex": null,
            "flex_flow": null,
            "grid_area": null,
            "grid_auto_columns": null,
            "grid_auto_flow": null,
            "grid_auto_rows": null,
            "grid_column": null,
            "grid_gap": null,
            "grid_row": null,
            "grid_template_areas": null,
            "grid_template_columns": null,
            "grid_template_rows": null,
            "height": null,
            "justify_content": null,
            "justify_items": null,
            "left": null,
            "margin": null,
            "max_height": null,
            "max_width": null,
            "min_height": null,
            "min_width": null,
            "object_fit": null,
            "object_position": null,
            "order": null,
            "overflow": null,
            "overflow_x": null,
            "overflow_y": null,
            "padding": null,
            "right": null,
            "top": null,
            "visibility": null,
            "width": null
          }
        },
        "eee1212ff0b14712841442056c1bb75c": {
          "model_module": "@jupyter-widgets/controls",
          "model_module_version": "1.5.0",
          "model_name": "ProgressStyleModel",
          "state": {
            "_model_module": "@jupyter-widgets/controls",
            "_model_module_version": "1.5.0",
            "_model_name": "ProgressStyleModel",
            "_view_count": null,
            "_view_module": "@jupyter-widgets/base",
            "_view_module_version": "1.2.0",
            "_view_name": "StyleView",
            "bar_color": null,
            "description_width": ""
          }
        },
        "f01502fb1fc34a8682b2880be556978e": {
          "model_module": "@jupyter-widgets/controls",
          "model_module_version": "1.5.0",
          "model_name": "DescriptionStyleModel",
          "state": {
            "_model_module": "@jupyter-widgets/controls",
            "_model_module_version": "1.5.0",
            "_model_name": "DescriptionStyleModel",
            "_view_count": null,
            "_view_module": "@jupyter-widgets/base",
            "_view_module_version": "1.2.0",
            "_view_name": "StyleView",
            "description_width": ""
          }
        }
      }
    }
  },
  "nbformat": 4,
  "nbformat_minor": 5
}
